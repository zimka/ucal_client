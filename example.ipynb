{
 "cells": [
  {
   "cell_type": "code",
   "execution_count": 1,
   "metadata": {},
   "outputs": [],
   "source": [
    "from ucal_client import UcalClient, UcalConfig, UcalBlock"
   ]
  },
  {
   "cell_type": "code",
   "execution_count": 12,
   "metadata": {},
   "outputs": [],
   "source": [
    "client = UcalClient(host='localhost')"
   ]
  },
  {
   "cell_type": "code",
   "execution_count": 13,
   "metadata": {},
   "outputs": [
    {
     "data": {
      "text/plain": [
       "<UcalState.NO_PLAN: 'NoPlan'>"
      ]
     },
     "execution_count": 13,
     "metadata": {},
     "output_type": "execute_result"
    }
   ],
   "source": [
    "client.get_state()"
   ]
  },
  {
   "cell_type": "code",
   "execution_count": 14,
   "metadata": {},
   "outputs": [
    {
     "data": {
      "text/plain": [
       "\"['2019-12-25 21:35:03|Init server']\""
      ]
     },
     "execution_count": 14,
     "metadata": {},
     "output_type": "execute_result"
    }
   ],
   "source": [
    "client.get_logs()"
   ]
  },
  {
   "cell_type": "code",
   "execution_count": 28,
   "metadata": {},
   "outputs": [],
   "source": [
    "bl = UcalBlock(\n",
    "    read_step_tu=10, \n",
    "    write_step_tu=10, \n",
    "    block_len_tu=5000, \n",
    "    voltage_0=[1000, 1000, 2000, 2000], \n",
    "    voltage_1=[-2000, -2500, -3000, -3500]\n",
    ")"
   ]
  },
  {
   "cell_type": "code",
   "execution_count": 31,
   "metadata": {},
   "outputs": [
    {
     "data": {
      "text/plain": [
       "<UcalState.HAS_PLAN: 'HasPlan'>"
      ]
     },
     "execution_count": 31,
     "metadata": {},
     "output_type": "execute_result"
    }
   ],
   "source": [
    "client.set_plan([bl, bl, bl])\n",
    "client.get_state()"
   ]
  },
  {
   "cell_type": "code",
   "execution_count": 32,
   "metadata": {},
   "outputs": [
    {
     "data": {
      "text/plain": [
       "[<UcalBlock:read=10;write=10;len=5000;volts=[[1000 1000...; [-2000 -25...]>,\n",
       " <UcalBlock:read=10;write=10;len=5000;volts=[[1000 1000...; [-2000 -25...]>,\n",
       " <UcalBlock:read=10;write=10;len=5000;volts=[[1000 1000...; [-2000 -25...]>]"
      ]
     },
     "execution_count": 32,
     "metadata": {},
     "output_type": "execute_result"
    }
   ],
   "source": [
    "client.run_next()\n",
    "client.get_state()\n",
    "client.get_plan()"
   ]
  },
  {
   "cell_type": "code",
   "execution_count": 33,
   "metadata": {},
   "outputs": [
    {
     "data": {
      "text/plain": [
       "<UcalState.EXECUTING: 'Executing'>"
      ]
     },
     "execution_count": 33,
     "metadata": {},
     "output_type": "execute_result"
    }
   ],
   "source": [
    "client.get_state()"
   ]
  },
  {
   "cell_type": "code",
   "execution_count": 34,
   "metadata": {},
   "outputs": [
    {
     "data": {
      "text/plain": [
       "[<UcalBlock:read=10;write=10;len=5000;volts=[[1000 1000...; [-2000 -25...]>,\n",
       " <UcalBlock:read=10;write=10;len=5000;volts=[[1000 1000...; [-2000 -25...]>,\n",
       " <UcalBlock:read=10;write=10;len=5000;volts=[[1000 1000...; [-2000 -25...]>]"
      ]
     },
     "execution_count": 34,
     "metadata": {},
     "output_type": "execute_result"
    }
   ],
   "source": [
    "client.get_plan()"
   ]
  },
  {
   "cell_type": "code",
   "execution_count": 35,
   "metadata": {},
   "outputs": [
    {
     "name": "stdout",
     "output_type": "stream",
     "text": [
      "UcalState.EXECUTING\n"
     ]
    },
    {
     "data": {
      "text/plain": [
       "[<UcalBlock:read=10;write=10;len=5000;volts=[[1000 1000...; [-2000 -25...]>,\n",
       " <UcalBlock:read=10;write=10;len=5000;volts=[[1000 1000...; [-2000 -25...]>,\n",
       " <UcalBlock:read=10;write=10;len=5000;volts=[[1000 1000...; [-2000 -25...]>]"
      ]
     },
     "execution_count": 35,
     "metadata": {},
     "output_type": "execute_result"
    }
   ],
   "source": [
    "client.run_next()\n",
    "print(client.get_state())\n",
    "client.get_plan()"
   ]
  },
  {
   "cell_type": "code",
   "execution_count": 25,
   "metadata": {},
   "outputs": [],
   "source": [
    "data = client.get_data()"
   ]
  },
  {
   "cell_type": "code",
   "execution_count": 27,
   "metadata": {},
   "outputs": [
    {
     "data": {
      "text/plain": [
       "UcalConfig(board_id='DaqBoard3001USB', time_unit_size=1.0, storage_frame_size=20)"
      ]
     },
     "execution_count": 27,
     "metadata": {},
     "output_type": "execute_result"
    }
   ],
   "source": [
    "client.get_config()"
   ]
  }
 ],
 "metadata": {
  "kernelspec": {
   "display_name": "Python 3",
   "language": "python",
   "name": "python3"
  },
  "language_info": {
   "codemirror_mode": {
    "name": "ipython",
    "version": 3
   },
   "file_extension": ".py",
   "mimetype": "text/x-python",
   "name": "python",
   "nbconvert_exporter": "python",
   "pygments_lexer": "ipython3",
   "version": "3.7.3"
  }
 },
 "nbformat": 4,
 "nbformat_minor": 2
}
