{
 "cells": [
  {
   "cell_type": "code",
   "execution_count": 3,
   "metadata": {},
   "outputs": [],
   "source": [
    "from ucal_client import UcalClient, UcalConfig, UcalBlock"
   ]
  },
  {
   "cell_type": "code",
   "execution_count": 32,
   "metadata": {},
   "outputs": [],
   "source": [
    "import ucal_client"
   ]
  },
  {
   "cell_type": "code",
   "execution_count": 19,
   "metadata": {},
   "outputs": [],
   "source": [
    "client = UcalClient(host=\"192.168.241.1\")"
   ]
  },
  {
   "cell_type": "code",
   "execution_count": 31,
   "metadata": {},
   "outputs": [
    {
     "name": "stdout",
     "output_type": "stream",
     "text": [
      "Help on UcalClient in module ucal_client.client object:\n",
      "\n",
      "class UcalClient(builtins.object)\n",
      " |  UcalClient(host='localhost', port='10003')\n",
      " |  \n",
      " |  Wrap over grpc client.\n",
      " |  \n",
      " |  Methods defined here:\n",
      " |  \n",
      " |  __init__(self, host='localhost', port='10003')\n",
      " |      :param host: IP addrress where server is running\n",
      " |      :param port: port where server is running\n",
      " |  \n",
      " |  drop_logs(self)\n",
      " |      Drop current server logs.\n",
      " |  \n",
      " |  get_config(self)\n",
      " |      Return UcalConfig from the server.\n",
      " |  \n",
      " |  get_data(self, start_ts=None, merge=True)\n",
      " |      Return List[pd.DataFrame] from Server.\n",
      " |      \n",
      " |      :param start_ts: UcalTs, starting point for returned data.\n",
      " |      :param merge: bool, whether to concat frames into single df.\n",
      " |  \n",
      " |  get_logs(self)\n",
      " |      Return current server logs.\n",
      " |  \n",
      " |  get_plan(self)\n",
      " |      Return List[UcalBlock] that server is executing or\n",
      " |      going to execute.\n",
      " |  \n",
      " |  get_state(self)\n",
      " |      Return UcalState of the server.\n",
      " |  \n",
      " |  run_next(self)\n",
      " |      Start next block execution.\n",
      " |      Stops once no blocks left to be executed.\n",
      " |  \n",
      " |  set_config(self, config)\n",
      " |      Apply new config to the server. Valid action at NoPlan state only.\n",
      " |      \n",
      " |      :param config: UcalConfig, Str, None or Dict with\n",
      " |          valid UcalConfig key-values\n",
      " |  \n",
      " |  set_plan(self, plan)\n",
      " |      Set List[UcalBlock] as a new plan for server.\n",
      " |      Valid action at NoPlan and HavePlan states.\n",
      " |  \n",
      " |  stop(self)\n",
      " |      Stop blocks execution.\n",
      " |  \n",
      " |  ----------------------------------------------------------------------\n",
      " |  Data descriptors defined here:\n",
      " |  \n",
      " |  __dict__\n",
      " |      dictionary for instance variables (if defined)\n",
      " |  \n",
      " |  __weakref__\n",
      " |      list of weak references to the object (if defined)\n",
      " |  \n",
      " |  stub\n",
      " |      GRPC server stub.\n",
      "\n"
     ]
    }
   ],
   "source": [
    "help(client)"
   ]
  },
  {
   "cell_type": "code",
   "execution_count": 30,
   "metadata": {},
   "outputs": [
    {
     "data": {
      "text/plain": [
       "<UcalState.NO_PLAN: 'NoPlan'>"
      ]
     },
     "execution_count": 30,
     "metadata": {},
     "output_type": "execute_result"
    }
   ],
   "source": [
    "client.get_state()"
   ]
  },
  {
   "cell_type": "code",
   "execution_count": null,
   "metadata": {},
   "outputs": [],
   "source": [
    "client."
   ]
  },
  {
   "cell_type": "code",
   "execution_count": 21,
   "metadata": {},
   "outputs": [
    {
     "data": {
      "text/plain": [
       "\"['2020-01-15 10:40:18|Init server']\""
      ]
     },
     "execution_count": 21,
     "metadata": {},
     "output_type": "execute_result"
    }
   ],
   "source": [
    "client.get_logs()"
   ]
  },
  {
   "cell_type": "code",
   "execution_count": 22,
   "metadata": {},
   "outputs": [],
   "source": [
    "bl = UcalBlock(\n",
    "    read_step_tu=10, \n",
    "    write_step_tu=10, \n",
    "    block_len_tu=5000, \n",
    "    voltage_0=[1000, 1000, 2000, 2000], \n",
    "    voltage_1=[-2000, -2500, -3000, -3500]\n",
    ")"
   ]
  },
  {
   "cell_type": "code",
   "execution_count": 23,
   "metadata": {},
   "outputs": [
    {
     "data": {
      "text/plain": [
       "<UcalState.HAS_PLAN: 'HasPlan'>"
      ]
     },
     "execution_count": 23,
     "metadata": {},
     "output_type": "execute_result"
    }
   ],
   "source": [
    "client.set_plan([bl, bl, bl])\n",
    "client.get_state()"
   ]
  },
  {
   "cell_type": "code",
   "execution_count": 24,
   "metadata": {},
   "outputs": [
    {
     "data": {
      "text/plain": [
       "[<UcalBlock:read=10;write=10;len=5000;volts=[[1000 1000...; [-2000 -25...]>,\n",
       " <UcalBlock:read=10;write=10;len=5000;volts=[[1000 1000...; [-2000 -25...]>,\n",
       " <UcalBlock:read=10;write=10;len=5000;volts=[[1000 1000...; [-2000 -25...]>]"
      ]
     },
     "execution_count": 24,
     "metadata": {},
     "output_type": "execute_result"
    }
   ],
   "source": [
    "client.run_next()\n",
    "client.get_state()\n",
    "client.get_plan()"
   ]
  },
  {
   "cell_type": "code",
   "execution_count": 25,
   "metadata": {},
   "outputs": [
    {
     "data": {
      "text/plain": [
       "<UcalState.EXECUTING: 'Executing'>"
      ]
     },
     "execution_count": 25,
     "metadata": {},
     "output_type": "execute_result"
    }
   ],
   "source": [
    "client.get_state()"
   ]
  },
  {
   "cell_type": "code",
   "execution_count": 26,
   "metadata": {},
   "outputs": [
    {
     "data": {
      "text/plain": [
       "[<UcalBlock:read=10;write=10;len=5000;volts=[[1000 1000...; [-2000 -25...]>,\n",
       " <UcalBlock:read=10;write=10;len=5000;volts=[[1000 1000...; [-2000 -25...]>,\n",
       " <UcalBlock:read=10;write=10;len=5000;volts=[[1000 1000...; [-2000 -25...]>]"
      ]
     },
     "execution_count": 26,
     "metadata": {},
     "output_type": "execute_result"
    }
   ],
   "source": [
    "client.get_plan()"
   ]
  },
  {
   "cell_type": "code",
   "execution_count": 35,
   "metadata": {},
   "outputs": [
    {
     "name": "stdout",
     "output_type": "stream",
     "text": [
      "UcalState.EXECUTING\n"
     ]
    },
    {
     "data": {
      "text/plain": [
       "[<UcalBlock:read=10;write=10;len=5000;volts=[[1000 1000...; [-2000 -25...]>,\n",
       " <UcalBlock:read=10;write=10;len=5000;volts=[[1000 1000...; [-2000 -25...]>,\n",
       " <UcalBlock:read=10;write=10;len=5000;volts=[[1000 1000...; [-2000 -25...]>]"
      ]
     },
     "execution_count": 35,
     "metadata": {},
     "output_type": "execute_result"
    }
   ],
   "source": [
    "client.run_next()\n",
    "print(client.get_state())\n",
    "client.get_plan()"
   ]
  },
  {
   "cell_type": "code",
   "execution_count": 25,
   "metadata": {},
   "outputs": [],
   "source": [
    "data = client.get_data()"
   ]
  },
  {
   "cell_type": "code",
   "execution_count": 27,
   "metadata": {},
   "outputs": [
    {
     "data": {
      "text/plain": [
       "UcalConfig(board_id='DaqBoard3001USB', time_unit_size=1.0, storage_frame_size=20)"
      ]
     },
     "execution_count": 27,
     "metadata": {},
     "output_type": "execute_result"
    }
   ],
   "source": [
    "client.get_config()"
   ]
  }
 ],
 "metadata": {
  "kernelspec": {
   "display_name": "Python 3",
   "language": "python",
   "name": "python3"
  },
  "language_info": {
   "codemirror_mode": {
    "name": "ipython",
    "version": 3
   },
   "file_extension": ".py",
   "mimetype": "text/x-python",
   "name": "python",
   "nbconvert_exporter": "python",
   "pygments_lexer": "ipython3",
   "version": "3.7.3"
  }
 },
 "nbformat": 4,
 "nbformat_minor": 2
}
